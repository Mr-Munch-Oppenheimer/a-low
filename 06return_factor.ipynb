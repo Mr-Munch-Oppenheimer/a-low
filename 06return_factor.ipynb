{
 "cells": [
  {
   "cell_type": "code",
   "execution_count": 1,
   "id": "a5f70562",
   "metadata": {},
   "outputs": [],
   "source": [
    "import os\n",
    "import pandas as pd\n",
    "import numpy as np\n",
    "import warnings\n",
    "warnings.filterwarnings(\"ignore\")"
   ]
  },
  {
   "cell_type": "code",
   "execution_count": 2,
   "id": "ee980b7d",
   "metadata": {},
   "outputs": [],
   "source": [
    "import joblib\n",
    "from joblib import Parallel,delayed"
   ]
  },
  {
   "cell_type": "code",
   "execution_count": 3,
   "id": "6666f73e",
   "metadata": {},
   "outputs": [
    {
     "data": {
      "text/html": [
       "<div>\n",
       "<style scoped>\n",
       "    .dataframe tbody tr th:only-of-type {\n",
       "        vertical-align: middle;\n",
       "    }\n",
       "\n",
       "    .dataframe tbody tr th {\n",
       "        vertical-align: top;\n",
       "    }\n",
       "\n",
       "    .dataframe thead th {\n",
       "        text-align: right;\n",
       "    }\n",
       "</style>\n",
       "<table border=\"1\" class=\"dataframe\">\n",
       "  <thead>\n",
       "    <tr style=\"text-align: right;\">\n",
       "      <th></th>\n",
       "      <th>ts_code</th>\n",
       "      <th>symbol</th>\n",
       "      <th>name</th>\n",
       "      <th>area</th>\n",
       "      <th>industry</th>\n",
       "      <th>list_date</th>\n",
       "    </tr>\n",
       "  </thead>\n",
       "  <tbody>\n",
       "    <tr>\n",
       "      <th>0</th>\n",
       "      <td>000001.SZ</td>\n",
       "      <td>1</td>\n",
       "      <td>平安银行</td>\n",
       "      <td>深圳</td>\n",
       "      <td>银行</td>\n",
       "      <td>19910403</td>\n",
       "    </tr>\n",
       "    <tr>\n",
       "      <th>1</th>\n",
       "      <td>000002.SZ</td>\n",
       "      <td>2</td>\n",
       "      <td>万科A</td>\n",
       "      <td>深圳</td>\n",
       "      <td>全国地产</td>\n",
       "      <td>19910129</td>\n",
       "    </tr>\n",
       "    <tr>\n",
       "      <th>2</th>\n",
       "      <td>000004.SZ</td>\n",
       "      <td>4</td>\n",
       "      <td>国华网安</td>\n",
       "      <td>深圳</td>\n",
       "      <td>软件服务</td>\n",
       "      <td>19910114</td>\n",
       "    </tr>\n",
       "    <tr>\n",
       "      <th>3</th>\n",
       "      <td>000006.SZ</td>\n",
       "      <td>6</td>\n",
       "      <td>深振业A</td>\n",
       "      <td>深圳</td>\n",
       "      <td>区域地产</td>\n",
       "      <td>19920427</td>\n",
       "    </tr>\n",
       "    <tr>\n",
       "      <th>4</th>\n",
       "      <td>000007.SZ</td>\n",
       "      <td>7</td>\n",
       "      <td>全新好</td>\n",
       "      <td>深圳</td>\n",
       "      <td>其他商业</td>\n",
       "      <td>19920413</td>\n",
       "    </tr>\n",
       "    <tr>\n",
       "      <th>...</th>\n",
       "      <td>...</td>\n",
       "      <td>...</td>\n",
       "      <td>...</td>\n",
       "      <td>...</td>\n",
       "      <td>...</td>\n",
       "      <td>...</td>\n",
       "    </tr>\n",
       "    <tr>\n",
       "      <th>4530</th>\n",
       "      <td>605580.SH</td>\n",
       "      <td>605580</td>\n",
       "      <td>恒盛能源</td>\n",
       "      <td>浙江</td>\n",
       "      <td>供气供热</td>\n",
       "      <td>20210819</td>\n",
       "    </tr>\n",
       "    <tr>\n",
       "      <th>4531</th>\n",
       "      <td>605588.SH</td>\n",
       "      <td>605588</td>\n",
       "      <td>冠石科技</td>\n",
       "      <td>江苏</td>\n",
       "      <td>元器件</td>\n",
       "      <td>20210812</td>\n",
       "    </tr>\n",
       "    <tr>\n",
       "      <th>4532</th>\n",
       "      <td>605589.SH</td>\n",
       "      <td>605589</td>\n",
       "      <td>圣泉集团</td>\n",
       "      <td>山东</td>\n",
       "      <td>化工原料</td>\n",
       "      <td>20210810</td>\n",
       "    </tr>\n",
       "    <tr>\n",
       "      <th>4533</th>\n",
       "      <td>605598.SH</td>\n",
       "      <td>605598</td>\n",
       "      <td>上海港湾</td>\n",
       "      <td>上海</td>\n",
       "      <td>建筑工程</td>\n",
       "      <td>20210917</td>\n",
       "    </tr>\n",
       "    <tr>\n",
       "      <th>4534</th>\n",
       "      <td>605599.SH</td>\n",
       "      <td>605599</td>\n",
       "      <td>菜百股份</td>\n",
       "      <td>北京</td>\n",
       "      <td>服饰</td>\n",
       "      <td>20210909</td>\n",
       "    </tr>\n",
       "  </tbody>\n",
       "</table>\n",
       "<p>4535 rows × 6 columns</p>\n",
       "</div>"
      ],
      "text/plain": [
       "        ts_code  symbol  name area industry  list_date\n",
       "0     000001.SZ       1  平安银行   深圳       银行   19910403\n",
       "1     000002.SZ       2   万科A   深圳     全国地产   19910129\n",
       "2     000004.SZ       4  国华网安   深圳     软件服务   19910114\n",
       "3     000006.SZ       6  深振业A   深圳     区域地产   19920427\n",
       "4     000007.SZ       7   全新好   深圳     其他商业   19920413\n",
       "...         ...     ...   ...  ...      ...        ...\n",
       "4530  605580.SH  605580  恒盛能源   浙江     供气供热   20210819\n",
       "4531  605588.SH  605588  冠石科技   江苏      元器件   20210812\n",
       "4532  605589.SH  605589  圣泉集团   山东     化工原料   20210810\n",
       "4533  605598.SH  605598  上海港湾   上海     建筑工程   20210917\n",
       "4534  605599.SH  605599  菜百股份   北京       服饰   20210909\n",
       "\n",
       "[4535 rows x 6 columns]"
      ]
     },
     "execution_count": 3,
     "metadata": {},
     "output_type": "execute_result"
    }
   ],
   "source": [
    "stock_basic = pd.read_csv(\"stock_basic.csv\")\n",
    "stock_basic"
   ]
  },
  {
   "cell_type": "code",
   "execution_count": 4,
   "id": "dc07b66c",
   "metadata": {},
   "outputs": [
    {
     "name": "stdout",
     "output_type": "stream",
     "text": [
      "factor文件夹已存在\n"
     ]
    }
   ],
   "source": [
    "if not os.path.isdir(\"factor\"):\n",
    "    os.makedirs(\"factor\")\n",
    "    print(\"已创建factor文件夹\")\n",
    "else:\n",
    "    print(\"factor文件夹已存在\")"
   ]
  },
  {
   "cell_type": "code",
   "execution_count": 5,
   "id": "deeb242b",
   "metadata": {
    "scrolled": true
   },
   "outputs": [
    {
     "name": "stdout",
     "output_type": "stream",
     "text": [
      "factor/return_-1文件夹已存在\n"
     ]
    },
    {
     "name": "stderr",
     "output_type": "stream",
     "text": [
      "[Parallel(n_jobs=5)]: Using backend LokyBackend with 5 concurrent workers.\n",
      "[Parallel(n_jobs=5)]: Done   3 tasks      | elapsed:    1.2s\n",
      "[Parallel(n_jobs=5)]: Done   8 tasks      | elapsed:    1.3s\n",
      "[Parallel(n_jobs=5)]: Done  15 tasks      | elapsed:    1.3s\n",
      "[Parallel(n_jobs=5)]: Batch computation too fast (0.1730s.) Setting batch_size=2.\n",
      "[Parallel(n_jobs=5)]: Done  22 tasks      | elapsed:    1.4s\n",
      "[Parallel(n_jobs=5)]: Done  32 tasks      | elapsed:    1.4s\n",
      "[Parallel(n_jobs=5)]: Batch computation too fast (0.0625s.) Setting batch_size=4.\n",
      "[Parallel(n_jobs=5)]: Done  50 tasks      | elapsed:    1.5s\n",
      "[Parallel(n_jobs=5)]: Batch computation too fast (0.1071s.) Setting batch_size=8.\n",
      "[Parallel(n_jobs=5)]: Done  98 tasks      | elapsed:    1.7s\n",
      "[Parallel(n_jobs=5)]: Batch computation too fast (0.1984s.) Setting batch_size=16.\n",
      "[Parallel(n_jobs=5)]: Done 202 tasks      | elapsed:    2.1s\n",
      "[Parallel(n_jobs=5)]: Done 410 tasks      | elapsed:    2.7s\n",
      "[Parallel(n_jobs=5)]: Done 618 tasks      | elapsed:    3.5s\n",
      "[Parallel(n_jobs=5)]: Done 858 tasks      | elapsed:    4.3s\n",
      "[Parallel(n_jobs=5)]: Done 1098 tasks      | elapsed:    5.2s\n",
      "[Parallel(n_jobs=5)]: Done 1370 tasks      | elapsed:    6.1s\n",
      "[Parallel(n_jobs=5)]: Done 1642 tasks      | elapsed:    7.0s\n",
      "[Parallel(n_jobs=5)]: Done 1946 tasks      | elapsed:    8.1s\n",
      "[Parallel(n_jobs=5)]: Done 2250 tasks      | elapsed:    9.3s\n",
      "[Parallel(n_jobs=5)]: Done 2586 tasks      | elapsed:   10.5s\n",
      "[Parallel(n_jobs=5)]: Done 2922 tasks      | elapsed:   11.7s\n",
      "[Parallel(n_jobs=5)]: Done 3290 tasks      | elapsed:   13.7s\n",
      "[Parallel(n_jobs=5)]: Done 3658 tasks      | elapsed:   15.4s\n",
      "[Parallel(n_jobs=5)]: Done 4058 tasks      | elapsed:   17.1s\n",
      "[Parallel(n_jobs=5)]: Done 4443 tasks      | elapsed:   18.9s\n",
      "[Parallel(n_jobs=5)]: Done 4500 tasks      | elapsed:   19.1s\n",
      "[Parallel(n_jobs=5)]: Done 4535 out of 4535 | elapsed:   19.2s finished\n",
      "[Parallel(n_jobs=5)]: Using backend LokyBackend with 5 concurrent workers.\n",
      "[Parallel(n_jobs=5)]: Batch computation too fast (0.0332s.) Setting batch_size=2.\n",
      "[Parallel(n_jobs=5)]: Done   3 tasks      | elapsed:    0.0s\n"
     ]
    },
    {
     "name": "stdout",
     "output_type": "stream",
     "text": [
      "factor/return_-3文件夹已存在\n"
     ]
    },
    {
     "name": "stderr",
     "output_type": "stream",
     "text": [
      "[Parallel(n_jobs=5)]: Done   8 tasks      | elapsed:    0.0s\n",
      "[Parallel(n_jobs=5)]: Batch computation too fast (0.0722s.) Setting batch_size=4.\n",
      "[Parallel(n_jobs=5)]: Done  20 tasks      | elapsed:    0.0s\n",
      "[Parallel(n_jobs=5)]: Batch computation too fast (0.1536s.) Setting batch_size=8.\n",
      "[Parallel(n_jobs=5)]: Done  38 tasks      | elapsed:    0.2s\n",
      "[Parallel(n_jobs=5)]: Done  78 tasks      | elapsed:    0.5s\n",
      "[Parallel(n_jobs=5)]: Done 150 tasks      | elapsed:    0.7s\n",
      "[Parallel(n_jobs=5)]: Done 238 tasks      | elapsed:    1.3s\n",
      "[Parallel(n_jobs=5)]: Done 326 tasks      | elapsed:    1.7s\n",
      "[Parallel(n_jobs=5)]: Done 430 tasks      | elapsed:    2.1s\n",
      "[Parallel(n_jobs=5)]: Done 534 tasks      | elapsed:    2.7s\n",
      "[Parallel(n_jobs=5)]: Done 654 tasks      | elapsed:    3.4s\n",
      "[Parallel(n_jobs=5)]: Done 774 tasks      | elapsed:    4.1s\n",
      "[Parallel(n_jobs=5)]: Done 910 tasks      | elapsed:    4.8s\n",
      "[Parallel(n_jobs=5)]: Done 1046 tasks      | elapsed:    5.6s\n",
      "[Parallel(n_jobs=5)]: Done 1198 tasks      | elapsed:    6.5s\n",
      "[Parallel(n_jobs=5)]: Done 1350 tasks      | elapsed:    7.3s\n",
      "[Parallel(n_jobs=5)]: Done 1518 tasks      | elapsed:    8.1s\n",
      "[Parallel(n_jobs=5)]: Done 1686 tasks      | elapsed:    9.0s\n",
      "[Parallel(n_jobs=5)]: Done 1870 tasks      | elapsed:    9.9s\n",
      "[Parallel(n_jobs=5)]: Done 2054 tasks      | elapsed:   10.7s\n",
      "[Parallel(n_jobs=5)]: Done 2254 tasks      | elapsed:   11.6s\n",
      "[Parallel(n_jobs=5)]: Done 2454 tasks      | elapsed:   12.4s\n",
      "[Parallel(n_jobs=5)]: Done 2670 tasks      | elapsed:   13.3s\n",
      "[Parallel(n_jobs=5)]: Done 2886 tasks      | elapsed:   14.1s\n",
      "[Parallel(n_jobs=5)]: Done 3118 tasks      | elapsed:   15.4s\n",
      "[Parallel(n_jobs=5)]: Done 3350 tasks      | elapsed:   16.5s\n",
      "[Parallel(n_jobs=5)]: Done 3598 tasks      | elapsed:   17.7s\n",
      "[Parallel(n_jobs=5)]: Done 3846 tasks      | elapsed:   18.8s\n",
      "[Parallel(n_jobs=5)]: Done 4110 tasks      | elapsed:   19.9s\n",
      "[Parallel(n_jobs=5)]: Done 4374 tasks      | elapsed:   21.1s\n",
      "[Parallel(n_jobs=5)]: Done 4535 out of 4535 | elapsed:   21.8s finished\n",
      "[Parallel(n_jobs=5)]: Using backend LokyBackend with 5 concurrent workers.\n",
      "[Parallel(n_jobs=5)]: Batch computation too fast (0.0342s.) Setting batch_size=2.\n",
      "[Parallel(n_jobs=5)]: Done   3 tasks      | elapsed:    0.0s\n",
      "[Parallel(n_jobs=5)]: Done   8 tasks      | elapsed:    0.0s\n",
      "[Parallel(n_jobs=5)]: Batch computation too fast (0.0852s.) Setting batch_size=4.\n",
      "[Parallel(n_jobs=5)]: Done  20 tasks      | elapsed:    0.0s\n"
     ]
    },
    {
     "name": "stdout",
     "output_type": "stream",
     "text": [
      "factor/return_-5文件夹已存在\n"
     ]
    },
    {
     "name": "stderr",
     "output_type": "stream",
     "text": [
      "[Parallel(n_jobs=5)]: Batch computation too fast (0.1425s.) Setting batch_size=8.\n",
      "[Parallel(n_jobs=5)]: Done  38 tasks      | elapsed:    0.2s\n",
      "[Parallel(n_jobs=5)]: Done  78 tasks      | elapsed:    0.5s\n",
      "[Parallel(n_jobs=5)]: Done 150 tasks      | elapsed:    0.8s\n",
      "[Parallel(n_jobs=5)]: Done 238 tasks      | elapsed:    1.2s\n",
      "[Parallel(n_jobs=5)]: Done 326 tasks      | elapsed:    1.7s\n",
      "[Parallel(n_jobs=5)]: Done 430 tasks      | elapsed:    2.0s\n",
      "[Parallel(n_jobs=5)]: Done 534 tasks      | elapsed:    2.5s\n",
      "[Parallel(n_jobs=5)]: Done 654 tasks      | elapsed:    3.1s\n",
      "[Parallel(n_jobs=5)]: Done 774 tasks      | elapsed:    3.7s\n",
      "[Parallel(n_jobs=5)]: Done 910 tasks      | elapsed:    4.4s\n",
      "[Parallel(n_jobs=5)]: Done 1046 tasks      | elapsed:    5.1s\n",
      "[Parallel(n_jobs=5)]: Done 1198 tasks      | elapsed:    5.8s\n",
      "[Parallel(n_jobs=5)]: Done 1350 tasks      | elapsed:    6.5s\n",
      "[Parallel(n_jobs=5)]: Done 1518 tasks      | elapsed:    7.3s\n",
      "[Parallel(n_jobs=5)]: Done 1686 tasks      | elapsed:    8.1s\n",
      "[Parallel(n_jobs=5)]: Done 1870 tasks      | elapsed:    9.0s\n",
      "[Parallel(n_jobs=5)]: Done 2054 tasks      | elapsed:    9.5s\n",
      "[Parallel(n_jobs=5)]: Done 2254 tasks      | elapsed:   10.1s\n",
      "[Parallel(n_jobs=5)]: Done 2454 tasks      | elapsed:   10.7s\n",
      "[Parallel(n_jobs=5)]: Done 2670 tasks      | elapsed:   11.3s\n",
      "[Parallel(n_jobs=5)]: Batch computation too fast (0.1976s.) Setting batch_size=16.\n",
      "[Parallel(n_jobs=5)]: Done 2886 tasks      | elapsed:   11.8s\n",
      "[Parallel(n_jobs=5)]: Done 3286 tasks      | elapsed:   13.2s\n",
      "[Parallel(n_jobs=5)]: Done 3750 tasks      | elapsed:   14.5s\n",
      "[Parallel(n_jobs=5)]: Done 4246 tasks      | elapsed:   16.1s\n",
      "[Parallel(n_jobs=5)]: Done 4487 tasks      | elapsed:   16.6s\n",
      "[Parallel(n_jobs=5)]: Done 4520 tasks      | elapsed:   16.7s\n",
      "[Parallel(n_jobs=5)]: Done 4535 out of 4535 | elapsed:   16.8s finished\n",
      "[Parallel(n_jobs=5)]: Using backend LokyBackend with 5 concurrent workers.\n",
      "[Parallel(n_jobs=5)]: Batch computation too fast (0.0156s.) Setting batch_size=2.\n"
     ]
    },
    {
     "name": "stdout",
     "output_type": "stream",
     "text": [
      "factor/return_-20文件夹已存在\n"
     ]
    },
    {
     "name": "stderr",
     "output_type": "stream",
     "text": [
      "[Parallel(n_jobs=5)]: Done   3 tasks      | elapsed:    0.0s\n",
      "[Parallel(n_jobs=5)]: Done   8 tasks      | elapsed:    0.0s\n",
      "[Parallel(n_jobs=5)]: Batch computation too fast (0.0492s.) Setting batch_size=4.\n",
      "[Parallel(n_jobs=5)]: Done  20 tasks      | elapsed:    0.0s\n",
      "[Parallel(n_jobs=5)]: Batch computation too fast (0.0941s.) Setting batch_size=8.\n",
      "[Parallel(n_jobs=5)]: Done  38 tasks      | elapsed:    0.1s\n",
      "[Parallel(n_jobs=5)]: Done  78 tasks      | elapsed:    0.3s\n",
      "[Parallel(n_jobs=5)]: Batch computation too fast (0.1982s.) Setting batch_size=16.\n",
      "[Parallel(n_jobs=5)]: Done 150 tasks      | elapsed:    0.4s\n",
      "[Parallel(n_jobs=5)]: Done 286 tasks      | elapsed:    1.0s\n",
      "[Parallel(n_jobs=5)]: Done 462 tasks      | elapsed:    1.4s\n",
      "[Parallel(n_jobs=5)]: Done 670 tasks      | elapsed:    2.0s\n",
      "[Parallel(n_jobs=5)]: Done 878 tasks      | elapsed:    2.8s\n",
      "[Parallel(n_jobs=5)]: Done 1118 tasks      | elapsed:    3.6s\n",
      "[Parallel(n_jobs=5)]: Done 1358 tasks      | elapsed:    4.3s\n",
      "[Parallel(n_jobs=5)]: Done 1630 tasks      | elapsed:    5.1s\n",
      "[Parallel(n_jobs=5)]: Done 1902 tasks      | elapsed:    6.0s\n",
      "[Parallel(n_jobs=5)]: Done 2206 tasks      | elapsed:    6.8s\n",
      "[Parallel(n_jobs=5)]: Done 2510 tasks      | elapsed:    7.6s\n",
      "[Parallel(n_jobs=5)]: Done 2846 tasks      | elapsed:    8.4s\n",
      "[Parallel(n_jobs=5)]: Done 3182 tasks      | elapsed:    9.5s\n",
      "[Parallel(n_jobs=5)]: Done 3550 tasks      | elapsed:   10.6s\n",
      "[Parallel(n_jobs=5)]: Done 3918 tasks      | elapsed:   11.7s\n",
      "[Parallel(n_jobs=5)]: Done 4318 tasks      | elapsed:   12.9s\n",
      "[Parallel(n_jobs=5)]: Done 4508 tasks      | elapsed:   13.3s\n",
      "[Parallel(n_jobs=5)]: Done 4535 out of 4535 | elapsed:   13.4s finished\n",
      "[Parallel(n_jobs=5)]: Using backend LokyBackend with 5 concurrent workers.\n",
      "[Parallel(n_jobs=5)]: Batch computation too fast (0.0312s.) Setting batch_size=2.\n",
      "[Parallel(n_jobs=5)]: Done   3 tasks      | elapsed:    0.0s\n",
      "[Parallel(n_jobs=5)]: Done   8 tasks      | elapsed:    0.0s\n",
      "[Parallel(n_jobs=5)]: Batch computation too fast (0.0473s.) Setting batch_size=4.\n",
      "[Parallel(n_jobs=5)]: Done  20 tasks      | elapsed:    0.0s\n"
     ]
    },
    {
     "name": "stdout",
     "output_type": "stream",
     "text": [
      "factor/return_-60文件夹已存在\n"
     ]
    },
    {
     "name": "stderr",
     "output_type": "stream",
     "text": [
      "[Parallel(n_jobs=5)]: Batch computation too fast (0.1030s.) Setting batch_size=8.\n",
      "[Parallel(n_jobs=5)]: Done  38 tasks      | elapsed:    0.1s\n",
      "[Parallel(n_jobs=5)]: Done  78 tasks      | elapsed:    0.3s\n",
      "[Parallel(n_jobs=5)]: Batch computation too fast (0.1900s.) Setting batch_size=16.\n",
      "[Parallel(n_jobs=5)]: Done 150 tasks      | elapsed:    0.4s\n",
      "[Parallel(n_jobs=5)]: Done 326 tasks      | elapsed:    1.1s\n",
      "[Parallel(n_jobs=5)]: Done 502 tasks      | elapsed:    1.6s\n",
      "[Parallel(n_jobs=5)]: Done 710 tasks      | elapsed:    2.2s\n",
      "[Parallel(n_jobs=5)]: Done 918 tasks      | elapsed:    2.8s\n",
      "[Parallel(n_jobs=5)]: Done 1158 tasks      | elapsed:    3.6s\n",
      "[Parallel(n_jobs=5)]: Done 1398 tasks      | elapsed:    4.2s\n",
      "[Parallel(n_jobs=5)]: Done 1670 tasks      | elapsed:    5.1s\n",
      "[Parallel(n_jobs=5)]: Done 1942 tasks      | elapsed:    5.9s\n",
      "[Parallel(n_jobs=5)]: Done 2246 tasks      | elapsed:    6.8s\n",
      "[Parallel(n_jobs=5)]: Done 2550 tasks      | elapsed:    7.5s\n",
      "[Parallel(n_jobs=5)]: Done 2886 tasks      | elapsed:    8.4s\n",
      "[Parallel(n_jobs=5)]: Done 3222 tasks      | elapsed:    9.5s\n",
      "[Parallel(n_jobs=5)]: Done 3590 tasks      | elapsed:   10.5s\n",
      "[Parallel(n_jobs=5)]: Done 3958 tasks      | elapsed:   11.6s\n",
      "[Parallel(n_jobs=5)]: Done 4358 tasks      | elapsed:   12.7s\n",
      "[Parallel(n_jobs=5)]: Done 4488 tasks      | elapsed:   13.0s\n",
      "[Parallel(n_jobs=5)]: Done 4515 tasks      | elapsed:   13.1s\n",
      "[Parallel(n_jobs=5)]: Done 4535 out of 4535 | elapsed:   13.1s finished\n",
      "[Parallel(n_jobs=5)]: Using backend LokyBackend with 5 concurrent workers.\n",
      "[Parallel(n_jobs=5)]: Batch computation too fast (0.0165s.) Setting batch_size=2.\n",
      "[Parallel(n_jobs=5)]: Done   3 tasks      | elapsed:    0.0s\n",
      "[Parallel(n_jobs=5)]: Done   8 tasks      | elapsed:    0.0s\n"
     ]
    },
    {
     "name": "stdout",
     "output_type": "stream",
     "text": [
      "factor/return_1文件夹已存在\n"
     ]
    },
    {
     "name": "stderr",
     "output_type": "stream",
     "text": [
      "[Parallel(n_jobs=5)]: Batch computation too fast (0.0493s.) Setting batch_size=4.\n",
      "[Parallel(n_jobs=5)]: Done  20 tasks      | elapsed:    0.0s\n",
      "[Parallel(n_jobs=5)]: Batch computation too fast (0.0836s.) Setting batch_size=8.\n",
      "[Parallel(n_jobs=5)]: Done  38 tasks      | elapsed:    0.1s\n",
      "[Parallel(n_jobs=5)]: Done  78 tasks      | elapsed:    0.3s\n",
      "[Parallel(n_jobs=5)]: Batch computation too fast (0.1893s.) Setting batch_size=16.\n",
      "[Parallel(n_jobs=5)]: Done 150 tasks      | elapsed:    0.4s\n",
      "[Parallel(n_jobs=5)]: Done 326 tasks      | elapsed:    1.1s\n",
      "[Parallel(n_jobs=5)]: Done 502 tasks      | elapsed:    1.5s\n",
      "[Parallel(n_jobs=5)]: Done 710 tasks      | elapsed:    2.2s\n",
      "[Parallel(n_jobs=5)]: Done 918 tasks      | elapsed:    2.9s\n",
      "[Parallel(n_jobs=5)]: Done 1158 tasks      | elapsed:    3.6s\n",
      "[Parallel(n_jobs=5)]: Done 1398 tasks      | elapsed:    4.4s\n",
      "[Parallel(n_jobs=5)]: Done 1670 tasks      | elapsed:    5.3s\n",
      "[Parallel(n_jobs=5)]: Done 1942 tasks      | elapsed:    6.1s\n",
      "[Parallel(n_jobs=5)]: Done 2246 tasks      | elapsed:    7.1s\n",
      "[Parallel(n_jobs=5)]: Done 2550 tasks      | elapsed:    7.8s\n",
      "[Parallel(n_jobs=5)]: Done 2886 tasks      | elapsed:    8.7s\n",
      "[Parallel(n_jobs=5)]: Done 3222 tasks      | elapsed:    9.8s\n",
      "[Parallel(n_jobs=5)]: Done 3590 tasks      | elapsed:   11.1s\n",
      "[Parallel(n_jobs=5)]: Done 3958 tasks      | elapsed:   12.2s\n",
      "[Parallel(n_jobs=5)]: Done 4358 tasks      | elapsed:   13.5s\n",
      "[Parallel(n_jobs=5)]: Done 4473 tasks      | elapsed:   13.8s\n",
      "[Parallel(n_jobs=5)]: Done 4515 tasks      | elapsed:   13.9s\n",
      "[Parallel(n_jobs=5)]: Done 4535 out of 4535 | elapsed:   13.9s finished\n",
      "[Parallel(n_jobs=5)]: Using backend LokyBackend with 5 concurrent workers.\n",
      "[Parallel(n_jobs=5)]: Batch computation too fast (0.0312s.) Setting batch_size=2.\n"
     ]
    },
    {
     "name": "stdout",
     "output_type": "stream",
     "text": [
      "factor/return_3文件夹已存在\n"
     ]
    },
    {
     "name": "stderr",
     "output_type": "stream",
     "text": [
      "[Parallel(n_jobs=5)]: Done   3 tasks      | elapsed:    0.0s\n",
      "[Parallel(n_jobs=5)]: Done   8 tasks      | elapsed:    0.0s\n",
      "[Parallel(n_jobs=5)]: Batch computation too fast (0.0589s.) Setting batch_size=4.\n",
      "[Parallel(n_jobs=5)]: Done  20 tasks      | elapsed:    0.0s\n",
      "[Parallel(n_jobs=5)]: Batch computation too fast (0.1001s.) Setting batch_size=8.\n",
      "[Parallel(n_jobs=5)]: Done  38 tasks      | elapsed:    0.1s\n",
      "[Parallel(n_jobs=5)]: Done  78 tasks      | elapsed:    0.3s\n",
      "[Parallel(n_jobs=5)]: Batch computation too fast (0.1639s.) Setting batch_size=16.\n",
      "[Parallel(n_jobs=5)]: Done 150 tasks      | elapsed:    0.4s\n",
      "[Parallel(n_jobs=5)]: Done 326 tasks      | elapsed:    1.1s\n",
      "[Parallel(n_jobs=5)]: Done 502 tasks      | elapsed:    1.5s\n",
      "[Parallel(n_jobs=5)]: Done 710 tasks      | elapsed:    2.2s\n",
      "[Parallel(n_jobs=5)]: Done 918 tasks      | elapsed:    2.8s\n",
      "[Parallel(n_jobs=5)]: Done 1158 tasks      | elapsed:    3.6s\n",
      "[Parallel(n_jobs=5)]: Done 1398 tasks      | elapsed:    4.3s\n",
      "[Parallel(n_jobs=5)]: Done 1670 tasks      | elapsed:    5.1s\n",
      "[Parallel(n_jobs=5)]: Done 1942 tasks      | elapsed:    5.9s\n",
      "[Parallel(n_jobs=5)]: Done 2246 tasks      | elapsed:    6.8s\n",
      "[Parallel(n_jobs=5)]: Done 2550 tasks      | elapsed:    7.6s\n",
      "[Parallel(n_jobs=5)]: Done 2886 tasks      | elapsed:    8.4s\n",
      "[Parallel(n_jobs=5)]: Done 3222 tasks      | elapsed:    9.5s\n",
      "[Parallel(n_jobs=5)]: Done 3590 tasks      | elapsed:   10.7s\n",
      "[Parallel(n_jobs=5)]: Done 3958 tasks      | elapsed:   11.7s\n",
      "[Parallel(n_jobs=5)]: Done 4358 tasks      | elapsed:   12.9s\n",
      "[Parallel(n_jobs=5)]: Done 4473 tasks      | elapsed:   13.2s\n",
      "[Parallel(n_jobs=5)]: Done 4515 tasks      | elapsed:   13.2s\n",
      "[Parallel(n_jobs=5)]: Done 4535 out of 4535 | elapsed:   13.3s finished\n",
      "[Parallel(n_jobs=5)]: Using backend LokyBackend with 5 concurrent workers.\n",
      "[Parallel(n_jobs=5)]: Batch computation too fast (0.0312s.) Setting batch_size=2.\n"
     ]
    },
    {
     "name": "stdout",
     "output_type": "stream",
     "text": [
      "factor/return_5文件夹已存在\n"
     ]
    },
    {
     "name": "stderr",
     "output_type": "stream",
     "text": [
      "[Parallel(n_jobs=5)]: Done   3 tasks      | elapsed:    0.0s\n",
      "[Parallel(n_jobs=5)]: Done   8 tasks      | elapsed:    0.0s\n",
      "[Parallel(n_jobs=5)]: Batch computation too fast (0.0319s.) Setting batch_size=4.\n",
      "[Parallel(n_jobs=5)]: Done  20 tasks      | elapsed:    0.0s\n",
      "[Parallel(n_jobs=5)]: Batch computation too fast (0.1097s.) Setting batch_size=8.\n",
      "[Parallel(n_jobs=5)]: Done  38 tasks      | elapsed:    0.1s\n",
      "[Parallel(n_jobs=5)]: Done  78 tasks      | elapsed:    0.3s\n",
      "[Parallel(n_jobs=5)]: Done 150 tasks      | elapsed:    0.5s\n",
      "[Parallel(n_jobs=5)]: Done 238 tasks      | elapsed:    0.8s\n",
      "[Parallel(n_jobs=5)]: Done 326 tasks      | elapsed:    1.0s\n",
      "[Parallel(n_jobs=5)]: Done 430 tasks      | elapsed:    1.4s\n",
      "[Parallel(n_jobs=5)]: Done 534 tasks      | elapsed:    1.7s\n",
      "[Parallel(n_jobs=5)]: Done 654 tasks      | elapsed:    2.0s\n",
      "[Parallel(n_jobs=5)]: Done 774 tasks      | elapsed:    2.5s\n",
      "[Parallel(n_jobs=5)]: Done 910 tasks      | elapsed:    2.9s\n",
      "[Parallel(n_jobs=5)]: Done 1046 tasks      | elapsed:    3.3s\n",
      "[Parallel(n_jobs=5)]: Done 1198 tasks      | elapsed:    3.8s\n",
      "[Parallel(n_jobs=5)]: Done 1350 tasks      | elapsed:    4.3s\n",
      "[Parallel(n_jobs=5)]: Done 1518 tasks      | elapsed:    4.7s\n",
      "[Parallel(n_jobs=5)]: Done 1686 tasks      | elapsed:    5.3s\n",
      "[Parallel(n_jobs=5)]: Done 1870 tasks      | elapsed:    5.9s\n",
      "[Parallel(n_jobs=5)]: Done 2054 tasks      | elapsed:    6.5s\n",
      "[Parallel(n_jobs=5)]: Done 2254 tasks      | elapsed:    7.0s\n",
      "[Parallel(n_jobs=5)]: Done 2454 tasks      | elapsed:    7.5s\n",
      "[Parallel(n_jobs=5)]: Batch computation too fast (0.1992s.) Setting batch_size=16.\n",
      "[Parallel(n_jobs=5)]: Done 2710 tasks      | elapsed:    8.1s\n",
      "[Parallel(n_jobs=5)]: Done 3142 tasks      | elapsed:    9.5s\n",
      "[Parallel(n_jobs=5)]: Done 3606 tasks      | elapsed:   10.9s\n",
      "[Parallel(n_jobs=5)]: Done 4070 tasks      | elapsed:   12.2s\n",
      "[Parallel(n_jobs=5)]: Done 4446 tasks      | elapsed:   13.3s\n",
      "[Parallel(n_jobs=5)]: Done 4507 tasks      | elapsed:   13.4s\n",
      "[Parallel(n_jobs=5)]: Done 4535 out of 4535 | elapsed:   13.5s finished\n"
     ]
    },
    {
     "name": "stdout",
     "output_type": "stream",
     "text": [
      "factor/return_20文件夹已存在\n"
     ]
    },
    {
     "name": "stderr",
     "output_type": "stream",
     "text": [
      "[Parallel(n_jobs=5)]: Using backend LokyBackend with 5 concurrent workers.\n",
      "[Parallel(n_jobs=5)]: Batch computation too fast (0.0340s.) Setting batch_size=2.\n",
      "[Parallel(n_jobs=5)]: Done   3 tasks      | elapsed:    0.0s\n",
      "[Parallel(n_jobs=5)]: Done   8 tasks      | elapsed:    0.0s\n",
      "[Parallel(n_jobs=5)]: Batch computation too fast (0.0448s.) Setting batch_size=4.\n",
      "[Parallel(n_jobs=5)]: Done  20 tasks      | elapsed:    0.0s\n",
      "[Parallel(n_jobs=5)]: Batch computation too fast (0.0941s.) Setting batch_size=8.\n",
      "[Parallel(n_jobs=5)]: Done  38 tasks      | elapsed:    0.1s\n",
      "[Parallel(n_jobs=5)]: Done  78 tasks      | elapsed:    0.2s\n",
      "[Parallel(n_jobs=5)]: Batch computation too fast (0.1697s.) Setting batch_size=16.\n",
      "[Parallel(n_jobs=5)]: Done 150 tasks      | elapsed:    0.4s\n",
      "[Parallel(n_jobs=5)]: Done 326 tasks      | elapsed:    1.1s\n",
      "[Parallel(n_jobs=5)]: Done 502 tasks      | elapsed:    1.5s\n",
      "[Parallel(n_jobs=5)]: Done 710 tasks      | elapsed:    2.1s\n",
      "[Parallel(n_jobs=5)]: Done 918 tasks      | elapsed:    2.8s\n",
      "[Parallel(n_jobs=5)]: Done 1158 tasks      | elapsed:    3.6s\n",
      "[Parallel(n_jobs=5)]: Done 1398 tasks      | elapsed:    4.3s\n",
      "[Parallel(n_jobs=5)]: Done 1670 tasks      | elapsed:    5.1s\n",
      "[Parallel(n_jobs=5)]: Done 1942 tasks      | elapsed:    5.8s\n",
      "[Parallel(n_jobs=5)]: Done 2246 tasks      | elapsed:    6.7s\n",
      "[Parallel(n_jobs=5)]: Done 2550 tasks      | elapsed:    7.5s\n",
      "[Parallel(n_jobs=5)]: Done 2886 tasks      | elapsed:    8.3s\n",
      "[Parallel(n_jobs=5)]: Done 3222 tasks      | elapsed:    9.3s\n",
      "[Parallel(n_jobs=5)]: Done 3590 tasks      | elapsed:   10.5s\n",
      "[Parallel(n_jobs=5)]: Done 3958 tasks      | elapsed:   11.5s\n",
      "[Parallel(n_jobs=5)]: Done 4358 tasks      | elapsed:   12.6s\n",
      "[Parallel(n_jobs=5)]: Done 4488 tasks      | elapsed:   12.9s\n",
      "[Parallel(n_jobs=5)]: Done 4515 tasks      | elapsed:   13.0s\n",
      "[Parallel(n_jobs=5)]: Done 4535 out of 4535 | elapsed:   13.1s finished\n",
      "[Parallel(n_jobs=5)]: Using backend LokyBackend with 5 concurrent workers.\n",
      "[Parallel(n_jobs=5)]: Batch computation too fast (0.0157s.) Setting batch_size=2.\n",
      "[Parallel(n_jobs=5)]: Done   3 tasks      | elapsed:    0.0s\n",
      "[Parallel(n_jobs=5)]: Done   8 tasks      | elapsed:    0.0s\n"
     ]
    },
    {
     "name": "stdout",
     "output_type": "stream",
     "text": [
      "factor/return_60文件夹已存在\n"
     ]
    },
    {
     "name": "stderr",
     "output_type": "stream",
     "text": [
      "[Parallel(n_jobs=5)]: Batch computation too fast (0.0432s.) Setting batch_size=4.\n",
      "[Parallel(n_jobs=5)]: Done  20 tasks      | elapsed:    0.0s\n",
      "[Parallel(n_jobs=5)]: Batch computation too fast (0.0964s.) Setting batch_size=8.\n",
      "[Parallel(n_jobs=5)]: Done  38 tasks      | elapsed:    0.1s\n",
      "[Parallel(n_jobs=5)]: Done  78 tasks      | elapsed:    0.2s\n",
      "[Parallel(n_jobs=5)]: Batch computation too fast (0.1709s.) Setting batch_size=16.\n",
      "[Parallel(n_jobs=5)]: Done 150 tasks      | elapsed:    0.4s\n",
      "[Parallel(n_jobs=5)]: Done 326 tasks      | elapsed:    1.1s\n",
      "[Parallel(n_jobs=5)]: Done 502 tasks      | elapsed:    1.5s\n",
      "[Parallel(n_jobs=5)]: Done 710 tasks      | elapsed:    2.2s\n",
      "[Parallel(n_jobs=5)]: Done 918 tasks      | elapsed:    2.8s\n",
      "[Parallel(n_jobs=5)]: Done 1158 tasks      | elapsed:    3.6s\n",
      "[Parallel(n_jobs=5)]: Done 1398 tasks      | elapsed:    4.2s\n",
      "[Parallel(n_jobs=5)]: Done 1670 tasks      | elapsed:    5.1s\n",
      "[Parallel(n_jobs=5)]: Done 1942 tasks      | elapsed:    6.2s\n",
      "[Parallel(n_jobs=5)]: Done 2246 tasks      | elapsed:    7.1s\n",
      "[Parallel(n_jobs=5)]: Done 2550 tasks      | elapsed:    7.9s\n",
      "[Parallel(n_jobs=5)]: Done 2886 tasks      | elapsed:    8.8s\n",
      "[Parallel(n_jobs=5)]: Done 3222 tasks      | elapsed:    9.9s\n",
      "[Parallel(n_jobs=5)]: Done 3590 tasks      | elapsed:   11.2s\n",
      "[Parallel(n_jobs=5)]: Done 3958 tasks      | elapsed:   12.2s\n",
      "[Parallel(n_jobs=5)]: Done 4358 tasks      | elapsed:   13.5s\n",
      "[Parallel(n_jobs=5)]: Done 4473 tasks      | elapsed:   13.7s\n",
      "[Parallel(n_jobs=5)]: Done 4500 tasks      | elapsed:   13.9s\n",
      "[Parallel(n_jobs=5)]: Done 4535 out of 4535 | elapsed:   13.9s finished\n"
     ]
    },
    {
     "name": "stdout",
     "output_type": "stream",
     "text": [
      "factor/return_120文件夹已存在\n"
     ]
    },
    {
     "name": "stderr",
     "output_type": "stream",
     "text": [
      "[Parallel(n_jobs=5)]: Using backend LokyBackend with 5 concurrent workers.\n",
      "[Parallel(n_jobs=5)]: Batch computation too fast (0.0249s.) Setting batch_size=2.\n",
      "[Parallel(n_jobs=5)]: Done   3 tasks      | elapsed:    0.0s\n",
      "[Parallel(n_jobs=5)]: Done   8 tasks      | elapsed:    0.0s\n",
      "[Parallel(n_jobs=5)]: Batch computation too fast (0.0587s.) Setting batch_size=4.\n",
      "[Parallel(n_jobs=5)]: Done  20 tasks      | elapsed:    0.0s\n",
      "[Parallel(n_jobs=5)]: Batch computation too fast (0.0906s.) Setting batch_size=8.\n",
      "[Parallel(n_jobs=5)]: Done  38 tasks      | elapsed:    0.1s\n",
      "[Parallel(n_jobs=5)]: Done  78 tasks      | elapsed:    0.3s\n",
      "[Parallel(n_jobs=5)]: Done 150 tasks      | elapsed:    0.5s\n",
      "[Parallel(n_jobs=5)]: Done 238 tasks      | elapsed:    0.8s\n",
      "[Parallel(n_jobs=5)]: Done 326 tasks      | elapsed:    1.1s\n",
      "[Parallel(n_jobs=5)]: Done 430 tasks      | elapsed:    1.4s\n",
      "[Parallel(n_jobs=5)]: Done 534 tasks      | elapsed:    1.7s\n",
      "[Parallel(n_jobs=5)]: Done 654 tasks      | elapsed:    2.0s\n",
      "[Parallel(n_jobs=5)]: Done 774 tasks      | elapsed:    2.4s\n",
      "[Parallel(n_jobs=5)]: Done 910 tasks      | elapsed:    2.9s\n",
      "[Parallel(n_jobs=5)]: Done 1046 tasks      | elapsed:    3.4s\n",
      "[Parallel(n_jobs=5)]: Done 1198 tasks      | elapsed:    3.9s\n",
      "[Parallel(n_jobs=5)]: Done 1350 tasks      | elapsed:    4.4s\n",
      "[Parallel(n_jobs=5)]: Done 1518 tasks      | elapsed:    4.9s\n",
      "[Parallel(n_jobs=5)]: Done 1686 tasks      | elapsed:    5.5s\n",
      "[Parallel(n_jobs=5)]: Done 1870 tasks      | elapsed:    6.1s\n",
      "[Parallel(n_jobs=5)]: Done 2054 tasks      | elapsed:    6.7s\n",
      "[Parallel(n_jobs=5)]: Done 2254 tasks      | elapsed:    7.3s\n",
      "[Parallel(n_jobs=5)]: Done 2454 tasks      | elapsed:    7.8s\n",
      "[Parallel(n_jobs=5)]: Batch computation too fast (0.1997s.) Setting batch_size=16.\n",
      "[Parallel(n_jobs=5)]: Done 2670 tasks      | elapsed:    8.4s\n",
      "[Parallel(n_jobs=5)]: Done 3102 tasks      | elapsed:    9.7s\n",
      "[Parallel(n_jobs=5)]: Done 3566 tasks      | elapsed:   11.9s\n",
      "[Parallel(n_jobs=5)]: Done 4030 tasks      | elapsed:   13.8s\n",
      "[Parallel(n_jobs=5)]: Done 4466 tasks      | elapsed:   15.5s\n",
      "[Parallel(n_jobs=5)]: Done 4535 out of 4535 | elapsed:   15.7s finished\n",
      "[Parallel(n_jobs=5)]: Using backend LokyBackend with 5 concurrent workers.\n",
      "[Parallel(n_jobs=5)]: Batch computation too fast (0.0280s.) Setting batch_size=2.\n",
      "[Parallel(n_jobs=5)]: Done   3 tasks      | elapsed:    0.0s\n",
      "[Parallel(n_jobs=5)]: Done   8 tasks      | elapsed:    0.0s\n",
      "[Parallel(n_jobs=5)]: Batch computation too fast (0.0730s.) Setting batch_size=4.\n",
      "[Parallel(n_jobs=5)]: Done  20 tasks      | elapsed:    0.0s\n"
     ]
    },
    {
     "name": "stdout",
     "output_type": "stream",
     "text": [
      "factor/return_240文件夹已存在\n"
     ]
    },
    {
     "name": "stderr",
     "output_type": "stream",
     "text": [
      "[Parallel(n_jobs=5)]: Batch computation too fast (0.1508s.) Setting batch_size=8.\n",
      "[Parallel(n_jobs=5)]: Done  38 tasks      | elapsed:    0.2s\n",
      "[Parallel(n_jobs=5)]: Done  78 tasks      | elapsed:    0.4s\n",
      "[Parallel(n_jobs=5)]: Done 150 tasks      | elapsed:    0.6s\n",
      "[Parallel(n_jobs=5)]: Done 238 tasks      | elapsed:    1.1s\n",
      "[Parallel(n_jobs=5)]: Done 326 tasks      | elapsed:    1.5s\n",
      "[Parallel(n_jobs=5)]: Done 430 tasks      | elapsed:    1.9s\n",
      "[Parallel(n_jobs=5)]: Done 534 tasks      | elapsed:    2.3s\n",
      "[Parallel(n_jobs=5)]: Done 654 tasks      | elapsed:    2.9s\n",
      "[Parallel(n_jobs=5)]: Done 774 tasks      | elapsed:    3.4s\n",
      "[Parallel(n_jobs=5)]: Done 910 tasks      | elapsed:    4.0s\n",
      "[Parallel(n_jobs=5)]: Done 1046 tasks      | elapsed:    4.7s\n",
      "[Parallel(n_jobs=5)]: Done 1198 tasks      | elapsed:    5.3s\n",
      "[Parallel(n_jobs=5)]: Done 1350 tasks      | elapsed:    5.9s\n",
      "[Parallel(n_jobs=5)]: Done 1518 tasks      | elapsed:    6.6s\n",
      "[Parallel(n_jobs=5)]: Done 1686 tasks      | elapsed:    7.4s\n",
      "[Parallel(n_jobs=5)]: Done 1870 tasks      | elapsed:    8.2s\n",
      "[Parallel(n_jobs=5)]: Done 2054 tasks      | elapsed:    8.8s\n",
      "[Parallel(n_jobs=5)]: Done 2254 tasks      | elapsed:    9.4s\n",
      "[Parallel(n_jobs=5)]: Done 2454 tasks      | elapsed:   10.0s\n",
      "[Parallel(n_jobs=5)]: Batch computation too fast (0.1986s.) Setting batch_size=16.\n",
      "[Parallel(n_jobs=5)]: Done 2710 tasks      | elapsed:   10.6s\n",
      "[Parallel(n_jobs=5)]: Done 3142 tasks      | elapsed:   12.0s\n",
      "[Parallel(n_jobs=5)]: Done 3606 tasks      | elapsed:   13.7s\n",
      "[Parallel(n_jobs=5)]: Done 4070 tasks      | elapsed:   15.1s\n",
      "[Parallel(n_jobs=5)]: Done 4446 tasks      | elapsed:   16.3s\n",
      "[Parallel(n_jobs=5)]: Done 4507 tasks      | elapsed:   16.4s\n",
      "[Parallel(n_jobs=5)]: Done 4535 out of 4535 | elapsed:   16.6s finished\n"
     ]
    }
   ],
   "source": [
    "# 过去x天收益率\n",
    "for i in [-1, -3, -5, -20, -60, 1, 3, 5, 20, 60, 120, 240]:\n",
    "    path = \"factor/return_\"+str(i)\n",
    "    if not os.path.isdir(path):\n",
    "        os.makedirs(path)\n",
    "        print(\"已创建\"+path+\"文件夹\")\n",
    "    else:\n",
    "        print(path+\"文件夹已存在\")\n",
    "    @joblib.delayed\n",
    "    def task(index):\n",
    "        ts_code = stock_basic.ts_code[index]\n",
    "        current_df=pd.read_csv(\"stock_daily/\"+ts_code+\".csv\")\n",
    "        current_df=current_df[[\"ts_code\",\"trade_date\",\"close\"]]\n",
    "        if i>0:#过去i天收益率\n",
    "            current_df['factor'] = current_df['close'].pct_change(i)\n",
    "        else:#未来i天收益率\n",
    "            current_df[\"factor\"] = current_df.close.pct_change(-i).shift(i)\n",
    "        current_df.to_csv(path+\"/\"+ts_code+\".csv\",index=0)\n",
    "        return index\n",
    "    tasks=[]\n",
    "    for j in range(stock_basic.shape[0]):\n",
    "    #     print(\"stock_daily/\"+stock_basic.ts_code[i]+\".csv\")\n",
    "        tasks.append(task(j))\n",
    "    parallel = joblib.Parallel(n_jobs=5, verbose=10)\n",
    "    parallel(tasks)"
   ]
  },
  {
   "cell_type": "code",
   "execution_count": 6,
   "id": "f2527614",
   "metadata": {},
   "outputs": [],
   "source": [
    "# current_df=pd.read_csv(\"stock_daily/\"+stock_basic.ts_code[0]+\".csv\")\n",
    "# current_df"
   ]
  },
  {
   "cell_type": "code",
   "execution_count": 7,
   "id": "7d75dc7c",
   "metadata": {},
   "outputs": [],
   "source": [
    "# current_df=pd.read_csv(\"stock_daily/\"+stock_basic.ts_code[1]+\".csv\")\n",
    "# current_df"
   ]
  },
  {
   "cell_type": "code",
   "execution_count": 8,
   "id": "d36e762f",
   "metadata": {
    "scrolled": true
   },
   "outputs": [],
   "source": [
    "# current_df=current_df[[\"ts_code\",\"trade_date\",\"close\"]]\n",
    "# current_df"
   ]
  },
  {
   "cell_type": "code",
   "execution_count": 9,
   "id": "a61ec16a",
   "metadata": {},
   "outputs": [],
   "source": [
    "# current_df['close'] = current_df['close'].pct_change(1)\n",
    "# current_df"
   ]
  },
  {
   "cell_type": "code",
   "execution_count": 10,
   "id": "088d0141",
   "metadata": {},
   "outputs": [],
   "source": [
    "# current_df[\"factor\"] = current_df.close.pct_change(1).shift(-1)"
   ]
  },
  {
   "cell_type": "code",
   "execution_count": 11,
   "id": "b26b81ed",
   "metadata": {},
   "outputs": [],
   "source": [
    "# current_df"
   ]
  },
  {
   "cell_type": "code",
   "execution_count": null,
   "id": "872f188d",
   "metadata": {},
   "outputs": [],
   "source": []
  }
 ],
 "metadata": {
  "kernelspec": {
   "display_name": "Python 3 (ipykernel)",
   "language": "python",
   "name": "python3"
  },
  "language_info": {
   "codemirror_mode": {
    "name": "ipython",
    "version": 3
   },
   "file_extension": ".py",
   "mimetype": "text/x-python",
   "name": "python",
   "nbconvert_exporter": "python",
   "pygments_lexer": "ipython3",
   "version": "3.9.12"
  }
 },
 "nbformat": 4,
 "nbformat_minor": 5
}
